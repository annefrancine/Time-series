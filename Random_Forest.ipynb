{
  "nbformat": 4,
  "nbformat_minor": 0,
  "metadata": {
    "kernelspec": {
      "display_name": "Python 3",
      "language": "python",
      "name": "python3"
    },
    "language_info": {
      "codemirror_mode": {
        "name": "ipython",
        "version": 3
      },
      "file_extension": ".py",
      "mimetype": "text/x-python",
      "name": "python",
      "nbconvert_exporter": "python",
      "pygments_lexer": "ipython3",
      "version": "3.7.3"
    },
    "colab": {
      "name": "Random Forest.ipynb",
      "provenance": [],
      "collapsed_sections": [],
      "include_colab_link": true
    }
  },
  "cells": [
    {
      "cell_type": "markdown",
      "metadata": {
        "id": "view-in-github",
        "colab_type": "text"
      },
      "source": [
        "<a href=\"https://colab.research.google.com/github/annefrancine/Time-series/blob/master/Random_Forest.ipynb\" target=\"_parent\"><img src=\"https://colab.research.google.com/assets/colab-badge.svg\" alt=\"Open In Colab\"/></a>"
      ]
    },
    {
      "cell_type": "markdown",
      "metadata": {
        "id": "w4kWdX1wxaL6",
        "colab_type": "text"
      },
      "source": [
        "# Air Passengers\n",
        "Documentation : https://scikit-learn.org/stable/modules/generated/sklearn.ensemble.RandomForestRegressor.html"
      ]
    },
    {
      "cell_type": "code",
      "metadata": {
        "id": "aH6fcgLSxaL8",
        "colab_type": "code",
        "colab": {}
      },
      "source": [
        "import pandas as pd\n",
        "from pandas import read_csv\n",
        "from matplotlib import pyplot\n",
        "from pandas import Series"
      ],
      "execution_count": 0,
      "outputs": []
    },
    {
      "cell_type": "code",
      "metadata": {
        "id": "4Ra69aXKNX0b",
        "colab_type": "code",
        "colab": {
          "base_uri": "https://localhost:8080/",
          "height": 124
        },
        "outputId": "ea39ac0c-1961-493c-cb6f-30211f173a7e"
      },
      "source": [
        "from google.colab import drive\n",
        "drive.mount('/content/drive')"
      ],
      "execution_count": 2,
      "outputs": [
        {
          "output_type": "stream",
          "text": [
            "Go to this URL in a browser: https://accounts.google.com/o/oauth2/auth?client_id=947318989803-6bn6qk8qdgf4n4g3pfee6491hc0brc4i.apps.googleusercontent.com&redirect_uri=urn%3aietf%3awg%3aoauth%3a2.0%3aoob&response_type=code&scope=email%20https%3a%2f%2fwww.googleapis.com%2fauth%2fdocs.test%20https%3a%2f%2fwww.googleapis.com%2fauth%2fdrive%20https%3a%2f%2fwww.googleapis.com%2fauth%2fdrive.photos.readonly%20https%3a%2f%2fwww.googleapis.com%2fauth%2fpeopleapi.readonly\n",
            "\n",
            "Enter your authorization code:\n",
            "··········\n",
            "Mounted at /content/drive\n"
          ],
          "name": "stdout"
        }
      ]
    },
    {
      "cell_type": "code",
      "metadata": {
        "id": "oGlV8W9nxaL_",
        "colab_type": "code",
        "outputId": "ab8398eb-2717-41ba-c4c4-0c443bbad43f",
        "colab": {
          "base_uri": "https://localhost:8080/",
          "height": 243
        }
      },
      "source": [
        "d = read_csv( \"/content/drive/My Drive/curso series temporais (udemy)/Dados/AirPassengers.csv\", header=0, parse_dates=[0], index_col=0, squeeze=True)\n",
        "d"
      ],
      "execution_count": 4,
      "outputs": [
        {
          "output_type": "execute_result",
          "data": {
            "text/plain": [
              "Month\n",
              "1949-01-01    112\n",
              "1949-02-01    118\n",
              "1949-03-01    132\n",
              "1949-04-01    129\n",
              "1949-05-01    121\n",
              "             ... \n",
              "1960-08-01    606\n",
              "1960-09-01    508\n",
              "1960-10-01    461\n",
              "1960-11-01    390\n",
              "1960-12-01    432\n",
              "Name: #Passengers, Length: 144, dtype: int64"
            ]
          },
          "metadata": {
            "tags": []
          },
          "execution_count": 4
        }
      ]
    },
    {
      "cell_type": "code",
      "metadata": {
        "id": "PahIiCcKxaMD",
        "colab_type": "code",
        "outputId": "d2d73da0-1292-4254-8402-4dbbb6dd9b2b",
        "colab": {
          "base_uri": "https://localhost:8080/",
          "height": 277
        }
      },
      "source": [
        "differenced = d.diff(12)\n",
        "differenced.head(n=13)"
      ],
      "execution_count": 5,
      "outputs": [
        {
          "output_type": "execute_result",
          "data": {
            "text/plain": [
              "Month\n",
              "1949-01-01    NaN\n",
              "1949-02-01    NaN\n",
              "1949-03-01    NaN\n",
              "1949-04-01    NaN\n",
              "1949-05-01    NaN\n",
              "1949-06-01    NaN\n",
              "1949-07-01    NaN\n",
              "1949-08-01    NaN\n",
              "1949-09-01    NaN\n",
              "1949-10-01    NaN\n",
              "1949-11-01    NaN\n",
              "1949-12-01    NaN\n",
              "1950-01-01    3.0\n",
              "Name: #Passengers, dtype: float64"
            ]
          },
          "metadata": {
            "tags": []
          },
          "execution_count": 5
        }
      ]
    },
    {
      "cell_type": "code",
      "metadata": {
        "id": "e0xnhDHfxaMG",
        "colab_type": "code",
        "outputId": "9a4fa398-9b9c-4ea7-fa29-d2c32c05fbf8",
        "colab": {
          "base_uri": "https://localhost:8080/",
          "height": 279
        }
      },
      "source": [
        "differenced.plot()\n",
        "pyplot.show()"
      ],
      "execution_count": 6,
      "outputs": [
        {
          "output_type": "display_data",
          "data": {
            "image/png": "[encoded data removed]",
            "text/plain": [
              "<Figure size 432x288 with 1 Axes>"
            ]
          },
          "metadata": {
            "tags": [],
            "needs_background": "light"
          }
        }
      ]
    },
    {
      "cell_type": "code",
      "metadata": {
        "id": "_fOmFs34xaMJ",
        "colab_type": "code",
        "colab": {}
      },
      "source": [
        "differenced = differenced[12:]"
      ],
      "execution_count": 0,
      "outputs": []
    },
    {
      "cell_type": "code",
      "metadata": {
        "id": "AHzhjctOxaMM",
        "colab_type": "code",
        "outputId": "edabb1ac-9f5a-4fad-a8a4-ca3812793dec",
        "colab": {
          "base_uri": "https://localhost:8080/",
          "height": 277
        }
      },
      "source": [
        "differenced.head(n=13)"
      ],
      "execution_count": 8,
      "outputs": [
        {
          "output_type": "execute_result",
          "data": {
            "text/plain": [
              "Month\n",
              "1950-01-01     3.0\n",
              "1950-02-01     8.0\n",
              "1950-03-01     9.0\n",
              "1950-04-01     6.0\n",
              "1950-05-01     4.0\n",
              "1950-06-01    14.0\n",
              "1950-07-01    22.0\n",
              "1950-08-01    22.0\n",
              "1950-09-01    22.0\n",
              "1950-10-01    14.0\n",
              "1950-11-01    10.0\n",
              "1950-12-01    22.0\n",
              "1951-01-01    30.0\n",
              "Name: #Passengers, dtype: float64"
            ]
          },
          "metadata": {
            "tags": []
          },
          "execution_count": 8
        }
      ]
    },
    {
      "cell_type": "code",
      "metadata": {
        "id": "gLgqnLpExaMO",
        "colab_type": "code",
        "outputId": "16da94b2-1037-4cf3-b08c-2ee8f7622dc3",
        "colab": {
          "base_uri": "https://localhost:8080/",
          "height": 279
        }
      },
      "source": [
        "differenced.plot()\n",
        "pyplot.show()"
      ],
      "execution_count": 9,
      "outputs": [
        {
          "output_type": "display_data",
          "data": {
            "image/png": "[encoded data removed]",
            "text/plain": [
              "<Figure size 432x288 with 1 Axes>"
            ]
          },
          "metadata": {
            "tags": [],
            "needs_background": "light"
          }
        }
      ]
    },
    {
      "cell_type": "code",
      "metadata": {
        "id": "U9WJPvrDxaMS",
        "colab_type": "code",
        "outputId": "2899d517-e4f3-4ef2-ffde-115b5ec8fee3",
        "colab": {
          "base_uri": "https://localhost:8080/",
          "height": 312
        }
      },
      "source": [
        "dataframe = pd.DataFrame()\n",
        "for i in range(12,0,-1):\n",
        "    dataframe['t-'+str(i)] = differenced.shift(i)\n",
        "    dataframe['t'] = differenced.values\n",
        "print(dataframe.head(13))\n",
        "dataframe = dataframe[13:]"
      ],
      "execution_count": 10,
      "outputs": [
        {
          "output_type": "stream",
          "text": [
            "            t-12     t  t-11  t-10  t-9  ...   t-5   t-4   t-3   t-2   t-1\n",
            "Month                                    ...                              \n",
            "1950-01-01   NaN   3.0   NaN   NaN  NaN  ...   NaN   NaN   NaN   NaN   NaN\n",
            "1950-02-01   NaN   8.0   NaN   NaN  NaN  ...   NaN   NaN   NaN   NaN   3.0\n",
            "1950-03-01   NaN   9.0   NaN   NaN  NaN  ...   NaN   NaN   NaN   3.0   8.0\n",
            "1950-04-01   NaN   6.0   NaN   NaN  NaN  ...   NaN   NaN   3.0   8.0   9.0\n",
            "1950-05-01   NaN   4.0   NaN   NaN  NaN  ...   NaN   3.0   8.0   9.0   6.0\n",
            "1950-06-01   NaN  14.0   NaN   NaN  NaN  ...   3.0   8.0   9.0   6.0   4.0\n",
            "1950-07-01   NaN  22.0   NaN   NaN  NaN  ...   8.0   9.0   6.0   4.0  14.0\n",
            "1950-08-01   NaN  22.0   NaN   NaN  NaN  ...   9.0   6.0   4.0  14.0  22.0\n",
            "1950-09-01   NaN  22.0   NaN   NaN  NaN  ...   6.0   4.0  14.0  22.0  22.0\n",
            "1950-10-01   NaN  14.0   NaN   NaN  3.0  ...   4.0  14.0  22.0  22.0  22.0\n",
            "1950-11-01   NaN  10.0   NaN   3.0  8.0  ...  14.0  22.0  22.0  22.0  14.0\n",
            "1950-12-01   NaN  22.0   3.0   8.0  9.0  ...  22.0  22.0  22.0  14.0  10.0\n",
            "1951-01-01   3.0  30.0   8.0   9.0  6.0  ...  22.0  22.0  14.0  10.0  22.0\n",
            "\n",
            "[13 rows x 13 columns]\n"
          ],
          "name": "stdout"
        }
      ]
    },
    {
      "cell_type": "code",
      "metadata": {
        "id": "lys5zpuqxaMU",
        "colab_type": "code",
        "colab": {}
      },
      "source": [
        "from sklearn.ensemble import RandomForestRegressor"
      ],
      "execution_count": 0,
      "outputs": []
    },
    {
      "cell_type": "code",
      "metadata": {
        "id": "xmBYPwNsxaMX",
        "colab_type": "code",
        "colab": {}
      },
      "source": [
        "array = dataframe.values\n",
        "# split into input and output\n",
        "X = array[:,0:-1]\n",
        "y = array[:,-1]"
      ],
      "execution_count": 0,
      "outputs": []
    },
    {
      "cell_type": "code",
      "metadata": {
        "id": "b5yHq54KxaMZ",
        "colab_type": "code",
        "outputId": "3aa2b8d5-8b97-4b57-f949-74a08f517dde",
        "colab": {
          "base_uri": "https://localhost:8080/",
          "height": 139
        }
      },
      "source": [
        "model = RandomForestRegressor(n_estimators=500, random_state=1)\n",
        "model.fit(X, y)"
      ],
      "execution_count": 13,
      "outputs": [
        {
          "output_type": "execute_result",
          "data": {
            "text/plain": [
              "RandomForestRegressor(bootstrap=True, ccp_alpha=0.0, criterion='mse',\n",
              "                      max_depth=None, max_features='auto', max_leaf_nodes=None,\n",
              "                      max_samples=None, min_impurity_decrease=0.0,\n",
              "                      min_impurity_split=None, min_samples_leaf=1,\n",
              "                      min_samples_split=2, min_weight_fraction_leaf=0.0,\n",
              "                      n_estimators=500, n_jobs=None, oob_score=False,\n",
              "                      random_state=1, verbose=0, warm_start=False)"
            ]
          },
          "metadata": {
            "tags": []
          },
          "execution_count": 13
        }
      ]
    },
    {
      "cell_type": "code",
      "metadata": {
        "id": "_Oxw5Jt3xaMd",
        "colab_type": "code",
        "outputId": "a32d0e38-d650-4ee8-a4f5-28c7dbef3e61",
        "colab": {
          "base_uri": "https://localhost:8080/",
          "height": 52
        }
      },
      "source": [
        "#mostra a importancia, a segunda é a mais importante\n",
        "print(model.feature_importances_)"
      ],
      "execution_count": 14,
      "outputs": [
        {
          "output_type": "stream",
          "text": [
            "[0.0249511  0.37561103 0.01541998 0.0167022  0.01435688 0.02521651\n",
            " 0.02093459 0.02271564 0.02462942 0.05339896 0.12840096 0.27766272]\n"
          ],
          "name": "stdout"
        }
      ]
    },
    {
      "cell_type": "code",
      "metadata": {
        "id": "0lhrPDkjxaMf",
        "colab_type": "code",
        "outputId": "a69f9ee5-ba29-4af9-ee53-001c0dba332a",
        "colab": {
          "base_uri": "https://localhost:8080/",
          "height": 265
        }
      },
      "source": [
        "names = dataframe.columns.values[0:-1]\n",
        "ticks = [i for i in range(len(names))]\n",
        "pyplot.bar(ticks, model.feature_importances_)\n",
        "pyplot.xticks(ticks, names)\n",
        "pyplot.show()"
      ],
      "execution_count": 15,
      "outputs": [
        {
          "output_type": "display_data",
          "data": {
            "image/png": "[encoded data removed]",
            "text/plain": [
              "<Figure size 432x288 with 1 Axes>"
            ]
          },
          "metadata": {
            "tags": [],
            "needs_background": "light"
          }
        }
      ]
    },
    {
      "cell_type": "code",
      "metadata": {
        "id": "lsPLE9alxaMh",
        "colab_type": "code",
        "colab": {}
      },
      "source": [
        "from sklearn.feature_selection import RFE"
      ],
      "execution_count": 0,
      "outputs": []
    },
    {
      "cell_type": "code",
      "metadata": {
        "id": "zuyQI8-rxaMj",
        "colab_type": "code",
        "colab": {}
      },
      "source": [
        "rfe = RFE(RandomForestRegressor(n_estimators=500, random_state=1), 4)\n",
        "fit = rfe.fit(X, y)"
      ],
      "execution_count": 0,
      "outputs": []
    },
    {
      "cell_type": "code",
      "metadata": {
        "id": "0aK133UGxaMl",
        "colab_type": "code",
        "outputId": "205ff771-c612-42db-ee5f-032b5cd71a9a",
        "colab": {
          "base_uri": "https://localhost:8080/",
          "height": 87
        }
      },
      "source": [
        "names = dataframe.columns.values[0:-1]\n",
        "for i in range(len(fit.support_)):\n",
        "    if fit.support_[i]:\n",
        "        print(names[i])"
      ],
      "execution_count": 18,
      "outputs": [
        {
          "output_type": "stream",
          "text": [
            "t\n",
            "t-4\n",
            "t-3\n",
            "t-2\n"
          ],
          "name": "stdout"
        }
      ]
    }
  ]
}